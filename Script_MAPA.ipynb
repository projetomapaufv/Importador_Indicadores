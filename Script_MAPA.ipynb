{
 "cells": [
  {
   "cell_type": "code",
   "execution_count": 2,
   "id": "3f031c10",
   "metadata": {},
   "outputs": [],
   "source": [
    "import pandas as pd\n",
    "import sqlite3\n",
    "import mysql.connector\n",
    "import subprocess"
   ]
  },
  {
   "cell_type": "markdown",
   "id": "09021a10",
   "metadata": {},
   "source": [
    "# Preparação"
   ]
  },
  {
   "cell_type": "code",
   "execution_count": 3,
   "id": "032b5c61",
   "metadata": {},
   "outputs": [
    {
     "data": {
      "text/html": [
       "<div>\n",
       "<style scoped>\n",
       "    .dataframe tbody tr th:only-of-type {\n",
       "        vertical-align: middle;\n",
       "    }\n",
       "\n",
       "    .dataframe tbody tr th {\n",
       "        vertical-align: top;\n",
       "    }\n",
       "\n",
       "    .dataframe thead th {\n",
       "        text-align: right;\n",
       "    }\n",
       "</style>\n",
       "<table border=\"1\" class=\"dataframe\">\n",
       "  <thead>\n",
       "    <tr style=\"text-align: right;\">\n",
       "      <th></th>\n",
       "      <th>cod-mun</th>\n",
       "      <th>ano</th>\n",
       "      <th>pop</th>\n",
       "      <th>popurb</th>\n",
       "      <th>poprural</th>\n",
       "      <th>dens</th>\n",
       "      <th>peaurb</th>\n",
       "      <th>pearur</th>\n",
       "      <th>ifdm _a</th>\n",
       "      <th>ifdmedu</th>\n",
       "      <th>...</th>\n",
       "      <th>pop10a14anos</th>\n",
       "      <th>pop15a19anos</th>\n",
       "      <th>pop20a29anos</th>\n",
       "      <th>pop30a39anos</th>\n",
       "      <th>pop40a49anos</th>\n",
       "      <th>pop50a59anos</th>\n",
       "      <th>pop60a69anos</th>\n",
       "      <th>pop70a79anos</th>\n",
       "      <th>pop80+</th>\n",
       "      <th>itgm</th>\n",
       "    </tr>\n",
       "  </thead>\n",
       "  <tbody>\n",
       "    <tr>\n",
       "      <th>1696</th>\n",
       "      <td>1303536</td>\n",
       "      <td>2011</td>\n",
       "      <td>27926.0</td>\n",
       "      <td>NaN</td>\n",
       "      <td>NaN</td>\n",
       "      <td>NaN</td>\n",
       "      <td>NaN</td>\n",
       "      <td>NaN</td>\n",
       "      <td>0.7057</td>\n",
       "      <td>0.6217</td>\n",
       "      <td>...</td>\n",
       "      <td>3459.0</td>\n",
       "      <td>3002.0</td>\n",
       "      <td>4922.0</td>\n",
       "      <td>4120.0</td>\n",
       "      <td>3027.0</td>\n",
       "      <td>2159.0</td>\n",
       "      <td>1091.0</td>\n",
       "      <td>392.0</td>\n",
       "      <td>114.0</td>\n",
       "      <td>NaN</td>\n",
       "    </tr>\n",
       "    <tr>\n",
       "      <th>11509</th>\n",
       "      <td>2207850</td>\n",
       "      <td>2010</td>\n",
       "      <td>3663.0</td>\n",
       "      <td>1793.0</td>\n",
       "      <td>1870.0</td>\n",
       "      <td>NaN</td>\n",
       "      <td>730.0</td>\n",
       "      <td>877.0</td>\n",
       "      <td>0.5333</td>\n",
       "      <td>0.4336</td>\n",
       "      <td>...</td>\n",
       "      <td>436.0</td>\n",
       "      <td>379.0</td>\n",
       "      <td>623.0</td>\n",
       "      <td>471.0</td>\n",
       "      <td>457.0</td>\n",
       "      <td>346.0</td>\n",
       "      <td>226.0</td>\n",
       "      <td>147.0</td>\n",
       "      <td>92.0</td>\n",
       "      <td>NaN</td>\n",
       "    </tr>\n",
       "    <tr>\n",
       "      <th>48560</th>\n",
       "      <td>3517703</td>\n",
       "      <td>2017</td>\n",
       "      <td>21081.0</td>\n",
       "      <td>NaN</td>\n",
       "      <td>NaN</td>\n",
       "      <td>NaN</td>\n",
       "      <td>NaN</td>\n",
       "      <td>NaN</td>\n",
       "      <td>NaN</td>\n",
       "      <td>NaN</td>\n",
       "      <td>...</td>\n",
       "      <td>1669.0</td>\n",
       "      <td>1694.0</td>\n",
       "      <td>3296.0</td>\n",
       "      <td>3347.0</td>\n",
       "      <td>2712.0</td>\n",
       "      <td>2234.0</td>\n",
       "      <td>1571.0</td>\n",
       "      <td>788.0</td>\n",
       "      <td>359.0</td>\n",
       "      <td>NaN</td>\n",
       "    </tr>\n",
       "    <tr>\n",
       "      <th>44660</th>\n",
       "      <td>3300951</td>\n",
       "      <td>2009</td>\n",
       "      <td>8839.0</td>\n",
       "      <td>NaN</td>\n",
       "      <td>NaN</td>\n",
       "      <td>NaN</td>\n",
       "      <td>NaN</td>\n",
       "      <td>NaN</td>\n",
       "      <td>0.6825</td>\n",
       "      <td>0.7099</td>\n",
       "      <td>...</td>\n",
       "      <td>712.0</td>\n",
       "      <td>667.0</td>\n",
       "      <td>1338.0</td>\n",
       "      <td>1251.0</td>\n",
       "      <td>1195.0</td>\n",
       "      <td>924.0</td>\n",
       "      <td>612.0</td>\n",
       "      <td>320.0</td>\n",
       "      <td>143.0</td>\n",
       "      <td>NaN</td>\n",
       "    </tr>\n",
       "    <tr>\n",
       "      <th>34801</th>\n",
       "      <td>3121803</td>\n",
       "      <td>2020</td>\n",
       "      <td>7609.0</td>\n",
       "      <td>NaN</td>\n",
       "      <td>NaN</td>\n",
       "      <td>NaN</td>\n",
       "      <td>NaN</td>\n",
       "      <td>NaN</td>\n",
       "      <td>NaN</td>\n",
       "      <td>NaN</td>\n",
       "      <td>...</td>\n",
       "      <td>391.0</td>\n",
       "      <td>429.0</td>\n",
       "      <td>1069.0</td>\n",
       "      <td>1164.0</td>\n",
       "      <td>1102.0</td>\n",
       "      <td>1081.0</td>\n",
       "      <td>769.0</td>\n",
       "      <td>511.0</td>\n",
       "      <td>304.0</td>\n",
       "      <td>NaN</td>\n",
       "    </tr>\n",
       "  </tbody>\n",
       "</table>\n",
       "<p>5 rows × 124 columns</p>\n",
       "</div>"
      ],
      "text/plain": [
       "       cod-mun   ano      pop  popurb  poprural  dens  peaurb  pearur  \\\n",
       "1696   1303536  2011  27926.0     NaN       NaN   NaN     NaN     NaN   \n",
       "11509  2207850  2010   3663.0  1793.0    1870.0   NaN   730.0   877.0   \n",
       "48560  3517703  2017  21081.0     NaN       NaN   NaN     NaN     NaN   \n",
       "44660  3300951  2009   8839.0     NaN       NaN   NaN     NaN     NaN   \n",
       "34801  3121803  2020   7609.0     NaN       NaN   NaN     NaN     NaN   \n",
       "\n",
       "       ifdm _a  ifdmedu   ...  pop10a14anos  pop15a19anos  pop20a29anos  \\\n",
       "1696    0.7057    0.6217  ...        3459.0        3002.0        4922.0   \n",
       "11509   0.5333    0.4336  ...         436.0         379.0         623.0   \n",
       "48560      NaN       NaN  ...        1669.0        1694.0        3296.0   \n",
       "44660   0.6825    0.7099  ...         712.0         667.0        1338.0   \n",
       "34801      NaN       NaN  ...         391.0         429.0        1069.0   \n",
       "\n",
       "       pop30a39anos  pop40a49anos  pop50a59anos  pop60a69anos  pop70a79anos  \\\n",
       "1696         4120.0        3027.0        2159.0        1091.0         392.0   \n",
       "11509         471.0         457.0         346.0         226.0         147.0   \n",
       "48560        3347.0        2712.0        2234.0        1571.0         788.0   \n",
       "44660        1251.0        1195.0         924.0         612.0         320.0   \n",
       "34801        1164.0        1102.0        1081.0         769.0         511.0   \n",
       "\n",
       "       pop80+  itgm  \n",
       "1696    114.0   NaN  \n",
       "11509    92.0   NaN  \n",
       "48560   359.0   NaN  \n",
       "44660   143.0   NaN  \n",
       "34801   304.0   NaN  \n",
       "\n",
       "[5 rows x 124 columns]"
      ]
     },
     "execution_count": 3,
     "metadata": {},
     "output_type": "execute_result"
    }
   ],
   "source": [
    "# Carregamento dos dados do excel\n",
    "data = pd.read_excel('base-de-dados_mapa_23122022 (3).xlsx', sheet_name='Painel')\n",
    "\n",
    "# Nomes das colunas são colocados em letras minúsculas para evitar ambiguidades com as tabelas do banco de dados\n",
    "data = data.rename(columns=excel_dict)\n",
    "data['id_ibge'] = data.index\n",
    "data['id_rais'] = data.index\n",
    "data['id_onu'] = data.index\n",
    "data['id_cnes'] = data.index\n",
    "data['id_siconfi'] = data.index\n",
    "data['id_inepme'] = data.index\n",
    "excel_lower = [c.lower() for c in data.columns]\n",
    "excel_dict = dict(zip(data.columns, excel_lower))\n",
    "data.sample(5)"
   ]
  },
  {
   "cell_type": "code",
   "execution_count": 18,
   "id": "a362ae92",
   "metadata": {},
   "outputs": [
    {
     "data": {
      "text/plain": [
       "[('IBGE',), ('RAIS',), ('SICONFI',), ('ONU',), ('CNES',), ('INEPME',)]"
      ]
     },
     "execution_count": 18,
     "metadata": {},
     "output_type": "execute_result"
    }
   ],
   "source": [
    "# Conecta ao banco de dados usando a biblioteca SQLite3\n",
    "conn = sqlite3.connect('mapa.db')\n",
    "\n",
    "# Cria um cursos para execução de querries\n",
    "cursor = conn.cursor()\n",
    "\n",
    "# Adiciona o esquema desejado no banco de dados\n",
    "with open('tabelas_novas.sql', 'r') as sql_file:\n",
    "    sql_script = sql_file.read()\n",
    "\n",
    "cursor.executescript(sql_script)\n",
    "conn.commit()\n",
    "\n",
    "cursor.execute(\"\"\"SELECT name FROM sqlite_master  \n",
    "  WHERE type='table';\"\"\"\n",
    ")\n",
    "\n",
    "cursor.fetchall()"
   ]
  },
  {
   "cell_type": "markdown",
   "id": "86ef29d4",
   "metadata": {},
   "source": [
    "# Tabela 1 - IBGE"
   ]
  },
  {
   "cell_type": "code",
   "execution_count": 6,
   "id": "d4e5ef6c",
   "metadata": {},
   "outputs": [],
   "source": [
    "# Seleciona tudo da tabela IBGE\n",
    "cursor.execute(\"SELECT * FROM IBGE\" )\n",
    "\n",
    "# Coleta os nomes das colunas da tabela IBGE do banco de dados\n",
    "columns_ibge = [c[0] for c in cursor.description]\n",
    "columns_ibge_lower = [c[0].lower() for c in cursor.description]"
   ]
  },
  {
   "cell_type": "code",
   "execution_count": 26,
   "id": "7c6f4647",
   "metadata": {},
   "outputs": [],
   "source": [
    "# Criação de um dicionário de equivalência entre a tabela do banco de dados e o Excel\n",
    "# Parte do processo é manual, pois o relacionamento das tabelas que não estão no excel precisa ser feito caso a caso\n",
    "IBGE_IBGE = dict(zip(columns_ibge_lower, columns_ibge))\n",
    "IBGE_excel = dict(zip(columns_ibge_lower, columns_ibge_lower))\n",
    "IBGE_excel['id_ibge']='id_ibge'\n",
    "IBGE_excel['municipio']='cod-mun'\n",
    "IBGE_excel['codmunicipio']='cod-mun'\n",
    "IBGE_excel['populacao']='pop'\n",
    "excel_IBGE =  {v: k for k, v in IBGE_excel.items()}"
   ]
  },
  {
   "cell_type": "code",
   "execution_count": 27,
   "id": "b5f38fbe",
   "metadata": {},
   "outputs": [
    {
     "data": {
      "text/html": [
       "<div>\n",
       "<style scoped>\n",
       "    .dataframe tbody tr th:only-of-type {\n",
       "        vertical-align: middle;\n",
       "    }\n",
       "\n",
       "    .dataframe tbody tr th {\n",
       "        vertical-align: top;\n",
       "    }\n",
       "\n",
       "    .dataframe thead th {\n",
       "        text-align: right;\n",
       "    }\n",
       "</style>\n",
       "<table border=\"1\" class=\"dataframe\">\n",
       "  <thead>\n",
       "    <tr style=\"text-align: right;\">\n",
       "      <th></th>\n",
       "      <th>ID_IBGE</th>\n",
       "      <th>Ano</th>\n",
       "      <th>Municipio</th>\n",
       "      <th>CodMunicipio</th>\n",
       "      <th>Populacao</th>\n",
       "      <th>PIBPerC</th>\n",
       "      <th>VABInd</th>\n",
       "      <th>VABS</th>\n",
       "      <th>VABAgr</th>\n",
       "      <th>VABAdm</th>\n",
       "      <th>...</th>\n",
       "      <th>EFE_PEC</th>\n",
       "      <th>PROD_AN</th>\n",
       "      <th>PROD_AQUI</th>\n",
       "      <th>VPAqui</th>\n",
       "      <th>VPPec</th>\n",
       "      <th>VACAS</th>\n",
       "      <th>TRAT_AR</th>\n",
       "      <th>TRAT_PES</th>\n",
       "      <th>TRAT_VB</th>\n",
       "      <th>ESTAB_CAPU</th>\n",
       "    </tr>\n",
       "  </thead>\n",
       "  <tbody>\n",
       "    <tr>\n",
       "      <th>48633</th>\n",
       "      <td>48633</td>\n",
       "      <td>2020</td>\n",
       "      <td>3518206</td>\n",
       "      <td>3518206</td>\n",
       "      <td>33100.0</td>\n",
       "      <td>1.100342e+09</td>\n",
       "      <td>185810651.0</td>\n",
       "      <td>4.648696e+07</td>\n",
       "      <td>225961636.0</td>\n",
       "      <td>146358448.0</td>\n",
       "      <td>...</td>\n",
       "      <td>..</td>\n",
       "      <td>..</td>\n",
       "      <td>NaN</td>\n",
       "      <td>NaN</td>\n",
       "      <td>195768</td>\n",
       "      <td>1840</td>\n",
       "      <td>NaN</td>\n",
       "      <td>NaN</td>\n",
       "      <td>NaN</td>\n",
       "      <td>..</td>\n",
       "    </tr>\n",
       "    <tr>\n",
       "      <th>64221</th>\n",
       "      <td>64221</td>\n",
       "      <td>2012</td>\n",
       "      <td>4218707</td>\n",
       "      <td>4218707</td>\n",
       "      <td>98412.0</td>\n",
       "      <td>2.502550e+09</td>\n",
       "      <td>594341044.0</td>\n",
       "      <td>1.311169e+09</td>\n",
       "      <td>29435739.0</td>\n",
       "      <td>296380074.0</td>\n",
       "      <td>...</td>\n",
       "      <td>NaN</td>\n",
       "      <td>NaN</td>\n",
       "      <td>NaN</td>\n",
       "      <td>NaN</td>\n",
       "      <td>NaN</td>\n",
       "      <td>NaN</td>\n",
       "      <td>NaN</td>\n",
       "      <td>NaN</td>\n",
       "      <td>NaN</td>\n",
       "      <td>NaN</td>\n",
       "    </tr>\n",
       "    <tr>\n",
       "      <th>41083</th>\n",
       "      <td>41083</td>\n",
       "      <td>2016</td>\n",
       "      <td>3159308</td>\n",
       "      <td>3159308</td>\n",
       "      <td>5054.0</td>\n",
       "      <td>5.496335e+07</td>\n",
       "      <td>1999598.0</td>\n",
       "      <td>1.831982e+07</td>\n",
       "      <td>11449711.0</td>\n",
       "      <td>20913833.0</td>\n",
       "      <td>...</td>\n",
       "      <td>..</td>\n",
       "      <td>..</td>\n",
       "      <td>..</td>\n",
       "      <td>75</td>\n",
       "      <td>18019</td>\n",
       "      <td>7850</td>\n",
       "      <td>NaN</td>\n",
       "      <td>NaN</td>\n",
       "      <td>NaN</td>\n",
       "      <td>NaN</td>\n",
       "    </tr>\n",
       "    <tr>\n",
       "      <th>16614</th>\n",
       "      <td>16614</td>\n",
       "      <td>2019</td>\n",
       "      <td>2410256</td>\n",
       "      <td>2410256</td>\n",
       "      <td>6437.0</td>\n",
       "      <td>1.537613e+08</td>\n",
       "      <td>64630274.0</td>\n",
       "      <td>3.207211e+06</td>\n",
       "      <td>9158266.0</td>\n",
       "      <td>42914277.0</td>\n",
       "      <td>...</td>\n",
       "      <td>..</td>\n",
       "      <td>..</td>\n",
       "      <td>NaN</td>\n",
       "      <td>NaN</td>\n",
       "      <td>124</td>\n",
       "      <td>138</td>\n",
       "      <td>NaN</td>\n",
       "      <td>NaN</td>\n",
       "      <td>NaN</td>\n",
       "      <td>NaN</td>\n",
       "    </tr>\n",
       "    <tr>\n",
       "      <th>72638</th>\n",
       "      <td>72638</td>\n",
       "      <td>2015</td>\n",
       "      <td>5100508</td>\n",
       "      <td>5100508</td>\n",
       "      <td>10704.0</td>\n",
       "      <td>8.943040e+07</td>\n",
       "      <td>2872458.0</td>\n",
       "      <td>1.901238e+07</td>\n",
       "      <td>15599936.0</td>\n",
       "      <td>48444074.0</td>\n",
       "      <td>...</td>\n",
       "      <td>..</td>\n",
       "      <td>..</td>\n",
       "      <td>..</td>\n",
       "      <td>4321</td>\n",
       "      <td>2343</td>\n",
       "      <td>2180</td>\n",
       "      <td>NaN</td>\n",
       "      <td>NaN</td>\n",
       "      <td>NaN</td>\n",
       "      <td>NaN</td>\n",
       "    </tr>\n",
       "  </tbody>\n",
       "</table>\n",
       "<p>5 rows × 39 columns</p>\n",
       "</div>"
      ],
      "text/plain": [
       "       ID_IBGE   Ano  Municipio  CodMunicipio  Populacao       PIBPerC  \\\n",
       "48633    48633  2020    3518206       3518206    33100.0  1.100342e+09   \n",
       "64221    64221  2012    4218707       4218707    98412.0  2.502550e+09   \n",
       "41083    41083  2016    3159308       3159308     5054.0  5.496335e+07   \n",
       "16614    16614  2019    2410256       2410256     6437.0  1.537613e+08   \n",
       "72638    72638  2015    5100508       5100508    10704.0  8.943040e+07   \n",
       "\n",
       "            VABInd          VABS       VABAgr       VABAdm  ...  EFE_PEC  \\\n",
       "48633  185810651.0  4.648696e+07  225961636.0  146358448.0  ...       ..   \n",
       "64221  594341044.0  1.311169e+09   29435739.0  296380074.0  ...      NaN   \n",
       "41083    1999598.0  1.831982e+07   11449711.0   20913833.0  ...       ..   \n",
       "16614   64630274.0  3.207211e+06    9158266.0   42914277.0  ...       ..   \n",
       "72638    2872458.0  1.901238e+07   15599936.0   48444074.0  ...       ..   \n",
       "\n",
       "       PROD_AN  PROD_AQUI  VPAqui   VPPec  VACAS  TRAT_AR  TRAT_PES  TRAT_VB  \\\n",
       "48633       ..        NaN     NaN  195768   1840      NaN       NaN      NaN   \n",
       "64221      NaN        NaN     NaN     NaN    NaN      NaN       NaN      NaN   \n",
       "41083       ..         ..      75   18019   7850      NaN       NaN      NaN   \n",
       "16614       ..        NaN     NaN     124    138      NaN       NaN      NaN   \n",
       "72638       ..         ..    4321    2343   2180      NaN       NaN      NaN   \n",
       "\n",
       "       ESTAB_CAPU  \n",
       "48633          ..  \n",
       "64221         NaN  \n",
       "41083         NaN  \n",
       "16614         NaN  \n",
       "72638         NaN  \n",
       "\n",
       "[5 rows x 39 columns]"
      ]
     },
     "execution_count": 27,
     "metadata": {},
     "output_type": "execute_result"
    }
   ],
   "source": [
    "# Seleciona somente as colunas do dataframe que equivalem às das tabelas do IBGE\n",
    "data_IBGE = data[IBGE_excel.values()]\n",
    "data_IBGE.columns = IBGE_excel.keys()\n",
    "data_IBGE = data_IBGE.rename(columns=IBGE_IBGE)\n",
    "data_IBGE.sample(5)"
   ]
  },
  {
   "cell_type": "code",
   "execution_count": 28,
   "id": "358e65bd",
   "metadata": {},
   "outputs": [],
   "source": [
    "data_IBGE = data_IBGE.replace('..',None)\n",
    "data_IBGE = data_IBGE.replace('...',None)"
   ]
  },
  {
   "cell_type": "code",
   "execution_count": 32,
   "id": "f82d2f71",
   "metadata": {},
   "outputs": [
    {
     "data": {
      "text/plain": [
       "77980"
      ]
     },
     "execution_count": 32,
     "metadata": {},
     "output_type": "execute_result"
    }
   ],
   "source": [
    "data_IBGE.to_sql('IBGE',conn, if_exists='append', index=False)"
   ]
  },
  {
   "cell_type": "code",
   "execution_count": 33,
   "id": "eedd5b6b",
   "metadata": {},
   "outputs": [],
   "source": [
    "with open('ibge_dump.sql', 'w') as f:\n",
    "    for line in conn.iterdump():\n",
    "        f.write(f'{line}\\n')"
   ]
  },
  {
   "cell_type": "markdown",
   "id": "0dba4fbd",
   "metadata": {},
   "source": [
    "# Tabela 2 - RAIS"
   ]
  },
  {
   "cell_type": "code",
   "execution_count": 65,
   "id": "9ef60fec",
   "metadata": {},
   "outputs": [
    {
     "name": "stdout",
     "output_type": "stream",
     "text": [
      "['ID_RAIS', 'ID_IBGE', 'TxESF', 'TxESA', 'RMT', 'NE']\n"
     ]
    }
   ],
   "source": [
    "# Seleciona tudo da tabela RAIS\n",
    "cursor.execute(\"SELECT * FROM RAIS\" )\n",
    "\n",
    "# Coleta os nomes das colunas da tabela IBGE do banco de dados\n",
    "columns_rais = [c[0] for c in cursor.description]\n",
    "columns_rais_lower = [c[0].lower() for c in cursor.description]\n",
    "print(columns_rais)"
   ]
  },
  {
   "cell_type": "code",
   "execution_count": 66,
   "id": "2fd37312",
   "metadata": {},
   "outputs": [],
   "source": [
    "for c in columns_rais_lower:\n",
    "    if c not in excel_lower:\n",
    "        print(c)"
   ]
  },
  {
   "cell_type": "code",
   "execution_count": 67,
   "id": "5abbd563",
   "metadata": {},
   "outputs": [],
   "source": [
    "# Criação de um dicionário de equivalência entre a tabela do banco de dados e o Excel\n",
    "# Parte do processo é manual, pois o relacionamento das tabelas que não estão no excel precisa ser feito caso a caso\n",
    "RAIS_RAIS = dict(zip(columns_rais_lower, columns_rais))\n",
    "RAIS_excel = dict(zip(columns_rais_lower, columns_rais_lower))\n",
    "excel_RAIS =  {v: k for k, v in RAIS_excel.items()}"
   ]
  },
  {
   "cell_type": "code",
   "execution_count": 68,
   "id": "9aa6d905",
   "metadata": {},
   "outputs": [
    {
     "data": {
      "text/html": [
       "<div>\n",
       "<style scoped>\n",
       "    .dataframe tbody tr th:only-of-type {\n",
       "        vertical-align: middle;\n",
       "    }\n",
       "\n",
       "    .dataframe tbody tr th {\n",
       "        vertical-align: top;\n",
       "    }\n",
       "\n",
       "    .dataframe thead th {\n",
       "        text-align: right;\n",
       "    }\n",
       "</style>\n",
       "<table border=\"1\" class=\"dataframe\">\n",
       "  <thead>\n",
       "    <tr style=\"text-align: right;\">\n",
       "      <th></th>\n",
       "      <th>ID_RAIS</th>\n",
       "      <th>ID_IBGE</th>\n",
       "      <th>TxESF</th>\n",
       "      <th>TxESA</th>\n",
       "      <th>RMT</th>\n",
       "      <th>NE</th>\n",
       "    </tr>\n",
       "  </thead>\n",
       "  <tbody>\n",
       "    <tr>\n",
       "      <th>75089</th>\n",
       "      <td>75089</td>\n",
       "      <td>75089</td>\n",
       "      <td>NaN</td>\n",
       "      <td>NaN</td>\n",
       "      <td>NaN</td>\n",
       "      <td>NaN</td>\n",
       "    </tr>\n",
       "    <tr>\n",
       "      <th>32193</th>\n",
       "      <td>32193</td>\n",
       "      <td>32193</td>\n",
       "      <td>NaN</td>\n",
       "      <td>NaN</td>\n",
       "      <td>NaN</td>\n",
       "      <td>NaN</td>\n",
       "    </tr>\n",
       "    <tr>\n",
       "      <th>40055</th>\n",
       "      <td>40055</td>\n",
       "      <td>40055</td>\n",
       "      <td>NaN</td>\n",
       "      <td>NaN</td>\n",
       "      <td>NaN</td>\n",
       "      <td>NaN</td>\n",
       "    </tr>\n",
       "    <tr>\n",
       "      <th>9892</th>\n",
       "      <td>9892</td>\n",
       "      <td>9892</td>\n",
       "      <td>NaN</td>\n",
       "      <td>NaN</td>\n",
       "      <td>NaN</td>\n",
       "      <td>NaN</td>\n",
       "    </tr>\n",
       "    <tr>\n",
       "      <th>63948</th>\n",
       "      <td>63948</td>\n",
       "      <td>63948</td>\n",
       "      <td>NaN</td>\n",
       "      <td>NaN</td>\n",
       "      <td>NaN</td>\n",
       "      <td>NaN</td>\n",
       "    </tr>\n",
       "  </tbody>\n",
       "</table>\n",
       "</div>"
      ],
      "text/plain": [
       "       ID_RAIS  ID_IBGE  TxESF  TxESA  RMT  NE\n",
       "75089    75089    75089    NaN    NaN  NaN NaN\n",
       "32193    32193    32193    NaN    NaN  NaN NaN\n",
       "40055    40055    40055    NaN    NaN  NaN NaN\n",
       "9892      9892     9892    NaN    NaN  NaN NaN\n",
       "63948    63948    63948    NaN    NaN  NaN NaN"
      ]
     },
     "execution_count": 68,
     "metadata": {},
     "output_type": "execute_result"
    }
   ],
   "source": [
    "# Seleciona somente as colunas do dataframe que equivalem às das tabelas do IBGE\n",
    "data_RAIS = data[RAIS_excel.values()]\n",
    "data_RAIS.columns = RAIS_excel.keys()\n",
    "data_RAIS = data_RAIS.rename(columns=RAIS_RAIS)\n",
    "data_RAIS.sample(5)"
   ]
  },
  {
   "cell_type": "code",
   "execution_count": 69,
   "id": "550538b6",
   "metadata": {},
   "outputs": [],
   "source": [
    "data_RAIS = data_RAIS.replace('..',None)\n",
    "data_RAIS = data_RAIS.replace('...',None)"
   ]
  },
  {
   "cell_type": "code",
   "execution_count": 71,
   "id": "7ded2ec2",
   "metadata": {},
   "outputs": [
    {
     "data": {
      "text/plain": [
       "77980"
      ]
     },
     "execution_count": 71,
     "metadata": {},
     "output_type": "execute_result"
    }
   ],
   "source": [
    "data_RAIS.to_sql('RAIS',conn, if_exists='append', index=False)"
   ]
  },
  {
   "cell_type": "markdown",
   "id": "a5325318",
   "metadata": {},
   "source": [
    "# Tabela 3 - SICONFI"
   ]
  },
  {
   "cell_type": "code",
   "execution_count": 72,
   "id": "8170a6d1",
   "metadata": {},
   "outputs": [
    {
     "name": "stdout",
     "output_type": "stream",
     "text": [
      "['ID_SICONFI', 'ID_IBGE', 'BO', 'GPRCL', 'TxIDT', 'GEdu', 'RCLPerC', 'GPerCEd', 'GPerCAS', 'GPerCS', 'GPerCT_A', 'DP', 'TRIB', 'PROP_TRAN']\n"
     ]
    }
   ],
   "source": [
    "# Seleciona tudo da tabela SICONFI\n",
    "cursor.execute(\"SELECT * FROM SICONFI\" )\n",
    "\n",
    "# Coleta os nomes das colunas da tabela IBGE do banco de dados\n",
    "columns_siconfi = [c[0] for c in cursor.description]\n",
    "columns_siconfi_lower = [c[0].lower() for c in cursor.description]\n",
    "print(columns_siconfi)"
   ]
  },
  {
   "cell_type": "code",
   "execution_count": 73,
   "id": "f2633fc7",
   "metadata": {},
   "outputs": [],
   "source": [
    "for c in columns_siconfi_lower:\n",
    "    if c not in excel_lower:\n",
    "        print(c)"
   ]
  },
  {
   "cell_type": "code",
   "execution_count": 74,
   "id": "e14c0ecf",
   "metadata": {},
   "outputs": [],
   "source": [
    "# Criação de um dicionário de equivalência entre a tabela do banco de dados e o Excel\n",
    "# Parte do processo é manual, pois o relacionamento das tabelas que não estão no excel precisa ser feito caso a caso\n",
    "SICONFI_SICONFI = dict(zip(columns_siconfi_lower, columns_siconfi))\n",
    "SICONFI_excel = dict(zip(columns_siconfi_lower, columns_siconfi_lower))\n",
    "excel_SICONFI =  {v: k for k, v in SICONFI_excel.items()}"
   ]
  },
  {
   "cell_type": "code",
   "execution_count": 76,
   "id": "805c6c1b",
   "metadata": {},
   "outputs": [
    {
     "data": {
      "text/html": [
       "<div>\n",
       "<style scoped>\n",
       "    .dataframe tbody tr th:only-of-type {\n",
       "        vertical-align: middle;\n",
       "    }\n",
       "\n",
       "    .dataframe tbody tr th {\n",
       "        vertical-align: top;\n",
       "    }\n",
       "\n",
       "    .dataframe thead th {\n",
       "        text-align: right;\n",
       "    }\n",
       "</style>\n",
       "<table border=\"1\" class=\"dataframe\">\n",
       "  <thead>\n",
       "    <tr style=\"text-align: right;\">\n",
       "      <th></th>\n",
       "      <th>ID_SICONFI</th>\n",
       "      <th>ID_IBGE</th>\n",
       "      <th>BO</th>\n",
       "      <th>GPRCL</th>\n",
       "      <th>TxIDT</th>\n",
       "      <th>GEdu</th>\n",
       "      <th>RCLPerC</th>\n",
       "      <th>GPerCEd</th>\n",
       "      <th>GPerCAS</th>\n",
       "      <th>GPerCS</th>\n",
       "      <th>GPerCT_A</th>\n",
       "      <th>DP</th>\n",
       "      <th>TRIB</th>\n",
       "      <th>PROP_TRAN</th>\n",
       "    </tr>\n",
       "  </thead>\n",
       "  <tbody>\n",
       "    <tr>\n",
       "      <th>55666</th>\n",
       "      <td>55666</td>\n",
       "      <td>55666</td>\n",
       "      <td>NaN</td>\n",
       "      <td>NaN</td>\n",
       "      <td>NaN</td>\n",
       "      <td>NaN</td>\n",
       "      <td>NaN</td>\n",
       "      <td>NaN</td>\n",
       "      <td>NaN</td>\n",
       "      <td>NaN</td>\n",
       "      <td>NaN</td>\n",
       "      <td>NaN</td>\n",
       "      <td>NaN</td>\n",
       "      <td>NaN</td>\n",
       "    </tr>\n",
       "    <tr>\n",
       "      <th>19104</th>\n",
       "      <td>19104</td>\n",
       "      <td>19104</td>\n",
       "      <td>0.938914</td>\n",
       "      <td>47.424495</td>\n",
       "      <td>4.395755</td>\n",
       "      <td>35.169494</td>\n",
       "      <td>3564.985546</td>\n",
       "      <td>1059.844081</td>\n",
       "      <td>81.107682</td>\n",
       "      <td>528.653753</td>\n",
       "      <td>3013.532333</td>\n",
       "      <td>1.690676e+06</td>\n",
       "      <td>222863884.51</td>\n",
       "      <td>2.394291e+08</td>\n",
       "    </tr>\n",
       "    <tr>\n",
       "      <th>52616</th>\n",
       "      <td>52616</td>\n",
       "      <td>52616</td>\n",
       "      <td>NaN</td>\n",
       "      <td>NaN</td>\n",
       "      <td>NaN</td>\n",
       "      <td>NaN</td>\n",
       "      <td>NaN</td>\n",
       "      <td>NaN</td>\n",
       "      <td>NaN</td>\n",
       "      <td>NaN</td>\n",
       "      <td>NaN</td>\n",
       "      <td>NaN</td>\n",
       "      <td>NaN</td>\n",
       "      <td>NaN</td>\n",
       "    </tr>\n",
       "    <tr>\n",
       "      <th>7701</th>\n",
       "      <td>7701</td>\n",
       "      <td>7701</td>\n",
       "      <td>NaN</td>\n",
       "      <td>NaN</td>\n",
       "      <td>NaN</td>\n",
       "      <td>NaN</td>\n",
       "      <td>NaN</td>\n",
       "      <td>NaN</td>\n",
       "      <td>NaN</td>\n",
       "      <td>NaN</td>\n",
       "      <td>NaN</td>\n",
       "      <td>NaN</td>\n",
       "      <td>NaN</td>\n",
       "      <td>NaN</td>\n",
       "    </tr>\n",
       "    <tr>\n",
       "      <th>8236</th>\n",
       "      <td>8236</td>\n",
       "      <td>8236</td>\n",
       "      <td>NaN</td>\n",
       "      <td>NaN</td>\n",
       "      <td>NaN</td>\n",
       "      <td>NaN</td>\n",
       "      <td>NaN</td>\n",
       "      <td>NaN</td>\n",
       "      <td>NaN</td>\n",
       "      <td>NaN</td>\n",
       "      <td>NaN</td>\n",
       "      <td>NaN</td>\n",
       "      <td>NaN</td>\n",
       "      <td>NaN</td>\n",
       "    </tr>\n",
       "  </tbody>\n",
       "</table>\n",
       "</div>"
      ],
      "text/plain": [
       "       ID_SICONFI  ID_IBGE        BO      GPRCL     TxIDT       GEdu  \\\n",
       "55666       55666    55666       NaN        NaN       NaN        NaN   \n",
       "19104       19104    19104  0.938914  47.424495  4.395755  35.169494   \n",
       "52616       52616    52616       NaN        NaN       NaN        NaN   \n",
       "7701         7701     7701       NaN        NaN       NaN        NaN   \n",
       "8236         8236     8236       NaN        NaN       NaN        NaN   \n",
       "\n",
       "           RCLPerC      GPerCEd    GPerCAS      GPerCS     GPerCT_A  \\\n",
       "55666          NaN          NaN        NaN         NaN          NaN   \n",
       "19104  3564.985546  1059.844081  81.107682  528.653753  3013.532333   \n",
       "52616          NaN          NaN        NaN         NaN          NaN   \n",
       "7701           NaN          NaN        NaN         NaN          NaN   \n",
       "8236           NaN          NaN        NaN         NaN          NaN   \n",
       "\n",
       "                 DP          TRIB     PROP_TRAN  \n",
       "55666           NaN           NaN           NaN  \n",
       "19104  1.690676e+06  222863884.51  2.394291e+08  \n",
       "52616           NaN           NaN           NaN  \n",
       "7701            NaN           NaN           NaN  \n",
       "8236            NaN           NaN           NaN  "
      ]
     },
     "execution_count": 76,
     "metadata": {},
     "output_type": "execute_result"
    }
   ],
   "source": [
    "# Seleciona somente as colunas do dataframe que equivalem às das tabelas do IBGE\n",
    "data_SICONFI = data[SICONFI_excel.values()]\n",
    "data_SICONFI.columns = SICONFI_excel.keys()\n",
    "data_SICONFI = data_SICONFI.rename(columns=SICONFI_SICONFI)\n",
    "data_SICONFI.sample(5)"
   ]
  },
  {
   "cell_type": "code",
   "execution_count": 77,
   "id": "55fe382e",
   "metadata": {},
   "outputs": [],
   "source": [
    "data_SICONFI = data_SICONFI.replace('..',None)\n",
    "data_SICONFI = data_SICONFI.replace('...',None)"
   ]
  },
  {
   "cell_type": "code",
   "execution_count": 78,
   "id": "ccf48d25",
   "metadata": {},
   "outputs": [
    {
     "data": {
      "text/plain": [
       "77980"
      ]
     },
     "execution_count": 78,
     "metadata": {},
     "output_type": "execute_result"
    }
   ],
   "source": [
    "data_SICONFI.to_sql('SICONFI',conn, if_exists='append', index=False)"
   ]
  },
  {
   "cell_type": "markdown",
   "id": "95696618",
   "metadata": {},
   "source": [
    "# Tabela 4 - ONU"
   ]
  },
  {
   "cell_type": "code",
   "execution_count": 79,
   "id": "40ddfb62",
   "metadata": {},
   "outputs": [
    {
     "name": "stdout",
     "output_type": "stream",
     "text": [
      "['ID_ONU', 'ID_IBGE', 'IDHM']\n"
     ]
    }
   ],
   "source": [
    "# Seleciona tudo da tabela ONU\n",
    "cursor.execute(\"SELECT * FROM ONU\" )\n",
    "\n",
    "# Coleta os nomes das colunas da tabela IBGE do banco de dados\n",
    "columns_onu = [c[0] for c in cursor.description]\n",
    "columns_onu_lower = [c[0].lower() for c in cursor.description]\n",
    "print(columns_onu)"
   ]
  },
  {
   "cell_type": "code",
   "execution_count": 80,
   "id": "a077cbca",
   "metadata": {},
   "outputs": [],
   "source": [
    "for c in columns_onu_lower:\n",
    "    if c not in excel_lower:\n",
    "        print(c)"
   ]
  },
  {
   "cell_type": "code",
   "execution_count": 81,
   "id": "3586257d",
   "metadata": {},
   "outputs": [],
   "source": [
    "# Criação de um dicionário de equivalência entre a tabela do banco de dados e o Excel\n",
    "# Parte do processo é manual, pois o relacionamento das tabelas que não estão no excel precisa ser feito caso a caso\n",
    "ONU_ONU = dict(zip(columns_onu_lower, columns_onu))\n",
    "ONU_excel = dict(zip(columns_onu_lower, columns_onu_lower))\n",
    "excel_ONU =  {v: k for k, v in ONU_excel.items()}"
   ]
  },
  {
   "cell_type": "code",
   "execution_count": 82,
   "id": "3eb7991e",
   "metadata": {},
   "outputs": [
    {
     "data": {
      "text/html": [
       "<div>\n",
       "<style scoped>\n",
       "    .dataframe tbody tr th:only-of-type {\n",
       "        vertical-align: middle;\n",
       "    }\n",
       "\n",
       "    .dataframe tbody tr th {\n",
       "        vertical-align: top;\n",
       "    }\n",
       "\n",
       "    .dataframe thead th {\n",
       "        text-align: right;\n",
       "    }\n",
       "</style>\n",
       "<table border=\"1\" class=\"dataframe\">\n",
       "  <thead>\n",
       "    <tr style=\"text-align: right;\">\n",
       "      <th></th>\n",
       "      <th>ID_ONU</th>\n",
       "      <th>ID_IBGE</th>\n",
       "      <th>IDHM</th>\n",
       "    </tr>\n",
       "  </thead>\n",
       "  <tbody>\n",
       "    <tr>\n",
       "      <th>68494</th>\n",
       "      <td>68494</td>\n",
       "      <td>68494</td>\n",
       "      <td>NaN</td>\n",
       "    </tr>\n",
       "    <tr>\n",
       "      <th>53413</th>\n",
       "      <td>53413</td>\n",
       "      <td>53413</td>\n",
       "      <td>NaN</td>\n",
       "    </tr>\n",
       "    <tr>\n",
       "      <th>32562</th>\n",
       "      <td>32562</td>\n",
       "      <td>32562</td>\n",
       "      <td>NaN</td>\n",
       "    </tr>\n",
       "    <tr>\n",
       "      <th>57095</th>\n",
       "      <td>57095</td>\n",
       "      <td>57095</td>\n",
       "      <td>NaN</td>\n",
       "    </tr>\n",
       "    <tr>\n",
       "      <th>11055</th>\n",
       "      <td>11055</td>\n",
       "      <td>11055</td>\n",
       "      <td>NaN</td>\n",
       "    </tr>\n",
       "  </tbody>\n",
       "</table>\n",
       "</div>"
      ],
      "text/plain": [
       "       ID_ONU  ID_IBGE  IDHM\n",
       "68494   68494    68494   NaN\n",
       "53413   53413    53413   NaN\n",
       "32562   32562    32562   NaN\n",
       "57095   57095    57095   NaN\n",
       "11055   11055    11055   NaN"
      ]
     },
     "execution_count": 82,
     "metadata": {},
     "output_type": "execute_result"
    }
   ],
   "source": [
    "# Seleciona somente as colunas do dataframe que equivalem às das tabelas do IBGE\n",
    "data_ONU = data[ONU_excel.values()]\n",
    "data_ONU.columns = ONU_excel.keys()\n",
    "data_ONU = data_ONU.rename(columns=ONU_ONU)\n",
    "data_ONU.sample(5)"
   ]
  },
  {
   "cell_type": "code",
   "execution_count": 85,
   "id": "a989a1de",
   "metadata": {},
   "outputs": [],
   "source": [
    "data_ONU = data_ONU.replace('..',None)\n",
    "data_ONU = data_ONU.replace('...',None)"
   ]
  },
  {
   "cell_type": "code",
   "execution_count": null,
   "id": "0b761406",
   "metadata": {},
   "outputs": [],
   "source": [
    "data_ONU.to_sql('ONU',conn, if_exists='append', index=False)"
   ]
  },
  {
   "cell_type": "markdown",
   "id": "40e43a03",
   "metadata": {},
   "source": [
    "# Tabela 5 - CNES"
   ]
  },
  {
   "cell_type": "code",
   "execution_count": 87,
   "id": "b2c3f08c",
   "metadata": {
    "scrolled": true
   },
   "outputs": [
    {
     "name": "stdout",
     "output_type": "stream",
     "text": [
      "['ID_CNES', 'ID_IBGE', 'TxEst', 'TxLint', 'TxMedSUS']\n"
     ]
    }
   ],
   "source": [
    "# Seleciona tudo da tabela CNES\n",
    "cursor.execute(\"SELECT * FROM CNES\" )\n",
    "\n",
    "# Coleta os nomes das colunas da tabela IBGE do banco de dados\n",
    "columns_cnes = [c[0] for c in cursor.description]\n",
    "columns_cnes_lower = [c[0].lower() for c in cursor.description]\n",
    "print(columns_cnes)"
   ]
  },
  {
   "cell_type": "code",
   "execution_count": 88,
   "id": "906b99be",
   "metadata": {},
   "outputs": [],
   "source": [
    "for c in columns_cnes_lower:\n",
    "    if c not in excel_lower:\n",
    "        print(c)"
   ]
  },
  {
   "cell_type": "code",
   "execution_count": 89,
   "id": "2953ece9",
   "metadata": {},
   "outputs": [],
   "source": [
    "# Criação de um dicionário de equivalência entre a tabela do banco de dados e o Excel\n",
    "# Parte do processo é manual, pois o relacionamento das tabelas que não estão no excel precisa ser feito caso a caso\n",
    "CNES_CNES = dict(zip(columns_cnes_lower, columns_cnes))\n",
    "CNES_excel = dict(zip(columns_cnes_lower, columns_cnes_lower))\n",
    "excel_CNEs =  {v: k for k, v in CNES_excel.items()}"
   ]
  },
  {
   "cell_type": "code",
   "execution_count": 90,
   "id": "4f419c85",
   "metadata": {
    "scrolled": true
   },
   "outputs": [
    {
     "data": {
      "text/html": [
       "<div>\n",
       "<style scoped>\n",
       "    .dataframe tbody tr th:only-of-type {\n",
       "        vertical-align: middle;\n",
       "    }\n",
       "\n",
       "    .dataframe tbody tr th {\n",
       "        vertical-align: top;\n",
       "    }\n",
       "\n",
       "    .dataframe thead th {\n",
       "        text-align: right;\n",
       "    }\n",
       "</style>\n",
       "<table border=\"1\" class=\"dataframe\">\n",
       "  <thead>\n",
       "    <tr style=\"text-align: right;\">\n",
       "      <th></th>\n",
       "      <th>ID_CNES</th>\n",
       "      <th>ID_IBGE</th>\n",
       "      <th>TxEst</th>\n",
       "      <th>TxLint</th>\n",
       "      <th>TxMedSUS</th>\n",
       "    </tr>\n",
       "  </thead>\n",
       "  <tbody>\n",
       "    <tr>\n",
       "      <th>75281</th>\n",
       "      <td>75281</td>\n",
       "      <td>75281</td>\n",
       "      <td>NaN</td>\n",
       "      <td>NaN</td>\n",
       "      <td>NaN</td>\n",
       "    </tr>\n",
       "    <tr>\n",
       "      <th>8788</th>\n",
       "      <td>8788</td>\n",
       "      <td>8788</td>\n",
       "      <td>NaN</td>\n",
       "      <td>NaN</td>\n",
       "      <td>NaN</td>\n",
       "    </tr>\n",
       "    <tr>\n",
       "      <th>64163</th>\n",
       "      <td>64163</td>\n",
       "      <td>64163</td>\n",
       "      <td>NaN</td>\n",
       "      <td>NaN</td>\n",
       "      <td>NaN</td>\n",
       "    </tr>\n",
       "    <tr>\n",
       "      <th>75400</th>\n",
       "      <td>75400</td>\n",
       "      <td>75400</td>\n",
       "      <td>NaN</td>\n",
       "      <td>NaN</td>\n",
       "      <td>NaN</td>\n",
       "    </tr>\n",
       "    <tr>\n",
       "      <th>64700</th>\n",
       "      <td>64700</td>\n",
       "      <td>64700</td>\n",
       "      <td>NaN</td>\n",
       "      <td>NaN</td>\n",
       "      <td>NaN</td>\n",
       "    </tr>\n",
       "  </tbody>\n",
       "</table>\n",
       "</div>"
      ],
      "text/plain": [
       "       ID_CNES  ID_IBGE  TxEst  TxLint  TxMedSUS\n",
       "75281    75281    75281    NaN     NaN       NaN\n",
       "8788      8788     8788    NaN     NaN       NaN\n",
       "64163    64163    64163    NaN     NaN       NaN\n",
       "75400    75400    75400    NaN     NaN       NaN\n",
       "64700    64700    64700    NaN     NaN       NaN"
      ]
     },
     "execution_count": 90,
     "metadata": {},
     "output_type": "execute_result"
    }
   ],
   "source": [
    "# Seleciona somente as colunas do dataframe que equivalem às das tabelas do IBGE\n",
    "data_CNES = data[CNES_excel.values()]\n",
    "data_CNES.columns = CNES_excel.keys()\n",
    "data_CNES = data_CNES.rename(columns=CNES_CNES)\n",
    "data_CNES.sample(5)"
   ]
  },
  {
   "cell_type": "code",
   "execution_count": 91,
   "id": "12ebc79b",
   "metadata": {},
   "outputs": [],
   "source": [
    "data_CNES = data_CNES.replace('..',None)\n",
    "data_CNES = data_CNES.replace('...',None)"
   ]
  },
  {
   "cell_type": "code",
   "execution_count": 92,
   "id": "7fe283f3",
   "metadata": {},
   "outputs": [
    {
     "data": {
      "text/plain": [
       "77980"
      ]
     },
     "execution_count": 92,
     "metadata": {},
     "output_type": "execute_result"
    }
   ],
   "source": [
    "data_CNES.to_sql('CNES',conn, if_exists='append', index=False)"
   ]
  },
  {
   "cell_type": "markdown",
   "id": "e276a24a",
   "metadata": {},
   "source": [
    "# Tabela 6 - INEPME"
   ]
  },
  {
   "cell_type": "code",
   "execution_count": 93,
   "id": "2cd3fa0e",
   "metadata": {},
   "outputs": [
    {
     "name": "stdout",
     "output_type": "stream",
     "text": [
      "['ID_INEPME', 'ID_IBGE', 'IdbeAI', 'Dist_AI', 'Dist_AF', 'Dist_EM', 'MatTIAI', 'MatTIAF', 'MATTIEM']\n"
     ]
    }
   ],
   "source": [
    "# Seleciona tudo da tabela INEPME\n",
    "cursor.execute(\"SELECT * FROM INEPME\" )\n",
    "\n",
    "# Coleta os nomes das colunas da tabela IBGE do banco de dados\n",
    "columns_inepme = [c[0] for c in cursor.description]\n",
    "columns_inepme_lower = [c[0].lower() for c in cursor.description]\n",
    "print(columns_inepme)"
   ]
  },
  {
   "cell_type": "code",
   "execution_count": 94,
   "id": "6ef956a6",
   "metadata": {},
   "outputs": [],
   "source": [
    "for c in columns_inepme_lower:\n",
    "    if c not in excel_lower:\n",
    "        print(c)"
   ]
  },
  {
   "cell_type": "code",
   "execution_count": 95,
   "id": "a4f34625",
   "metadata": {},
   "outputs": [],
   "source": [
    "# Criação de um dicionário de equivalência entre a tabela do banco de dados e o Excel\n",
    "# Parte do processo é manual, pois o relacionamento das tabelas que não estão no excel precisa ser feito caso a caso\n",
    "INEPME_INEPME = dict(zip(columns_inepme_lower, columns_inepme))\n",
    "INEPME_excel = dict(zip(columns_inepme_lower, columns_inepme_lower))\n",
    "excel_INEPME =  {v: k for k, v in INEPME_excel.items()}"
   ]
  },
  {
   "cell_type": "code",
   "execution_count": 96,
   "id": "2bda222b",
   "metadata": {},
   "outputs": [
    {
     "data": {
      "text/html": [
       "<div>\n",
       "<style scoped>\n",
       "    .dataframe tbody tr th:only-of-type {\n",
       "        vertical-align: middle;\n",
       "    }\n",
       "\n",
       "    .dataframe tbody tr th {\n",
       "        vertical-align: top;\n",
       "    }\n",
       "\n",
       "    .dataframe thead th {\n",
       "        text-align: right;\n",
       "    }\n",
       "</style>\n",
       "<table border=\"1\" class=\"dataframe\">\n",
       "  <thead>\n",
       "    <tr style=\"text-align: right;\">\n",
       "      <th></th>\n",
       "      <th>ID_INEPME</th>\n",
       "      <th>ID_IBGE</th>\n",
       "      <th>IdbeAI</th>\n",
       "      <th>Dist_AI</th>\n",
       "      <th>Dist_AF</th>\n",
       "      <th>Dist_EM</th>\n",
       "      <th>MatTIAI</th>\n",
       "      <th>MatTIAF</th>\n",
       "      <th>MATTIEM</th>\n",
       "    </tr>\n",
       "  </thead>\n",
       "  <tbody>\n",
       "    <tr>\n",
       "      <th>10114</th>\n",
       "      <td>10114</td>\n",
       "      <td>10114</td>\n",
       "      <td>4.1</td>\n",
       "      <td>34.8</td>\n",
       "      <td>55.6</td>\n",
       "      <td>69.3</td>\n",
       "      <td>NaN</td>\n",
       "      <td>NaN</td>\n",
       "      <td>NaN</td>\n",
       "    </tr>\n",
       "    <tr>\n",
       "      <th>4258</th>\n",
       "      <td>4258</td>\n",
       "      <td>4258</td>\n",
       "      <td>4.0</td>\n",
       "      <td>32.6</td>\n",
       "      <td>42.3</td>\n",
       "      <td>50.7</td>\n",
       "      <td>NaN</td>\n",
       "      <td>NaN</td>\n",
       "      <td>NaN</td>\n",
       "    </tr>\n",
       "    <tr>\n",
       "      <th>77644</th>\n",
       "      <td>77644</td>\n",
       "      <td>77644</td>\n",
       "      <td>4.0</td>\n",
       "      <td>22.6</td>\n",
       "      <td>32.1</td>\n",
       "      <td>51.7</td>\n",
       "      <td>NaN</td>\n",
       "      <td>NaN</td>\n",
       "      <td>NaN</td>\n",
       "    </tr>\n",
       "    <tr>\n",
       "      <th>8827</th>\n",
       "      <td>8827</td>\n",
       "      <td>8827</td>\n",
       "      <td>NaN</td>\n",
       "      <td>18.0</td>\n",
       "      <td>40.9</td>\n",
       "      <td>42.2</td>\n",
       "      <td>NaN</td>\n",
       "      <td>NaN</td>\n",
       "      <td>NaN</td>\n",
       "    </tr>\n",
       "    <tr>\n",
       "      <th>74997</th>\n",
       "      <td>74997</td>\n",
       "      <td>74997</td>\n",
       "      <td>NaN</td>\n",
       "      <td>NaN</td>\n",
       "      <td>NaN</td>\n",
       "      <td>NaN</td>\n",
       "      <td>NaN</td>\n",
       "      <td>NaN</td>\n",
       "      <td>NaN</td>\n",
       "    </tr>\n",
       "  </tbody>\n",
       "</table>\n",
       "</div>"
      ],
      "text/plain": [
       "       ID_INEPME  ID_IBGE  IdbeAI  Dist_AI  Dist_AF  Dist_EM  MatTIAI  \\\n",
       "10114      10114    10114     4.1     34.8     55.6     69.3      NaN   \n",
       "4258        4258     4258     4.0     32.6     42.3     50.7      NaN   \n",
       "77644      77644    77644     4.0     22.6     32.1     51.7      NaN   \n",
       "8827        8827     8827     NaN     18.0     40.9     42.2      NaN   \n",
       "74997      74997    74997     NaN      NaN      NaN      NaN      NaN   \n",
       "\n",
       "       MatTIAF  MATTIEM  \n",
       "10114      NaN      NaN  \n",
       "4258       NaN      NaN  \n",
       "77644      NaN      NaN  \n",
       "8827       NaN      NaN  \n",
       "74997      NaN      NaN  "
      ]
     },
     "execution_count": 96,
     "metadata": {},
     "output_type": "execute_result"
    }
   ],
   "source": [
    "# Seleciona somente as colunas do dataframe que equivalem às das tabelas do IBGE\n",
    "data_INEPME = data[INEPME_excel.values()]\n",
    "data_INEPME.columns = INEPME_excel.keys()\n",
    "data_INEPME = data_INEPME.rename(columns=INEPME_INEPME)\n",
    "data_INEPME.sample(5)"
   ]
  },
  {
   "cell_type": "code",
   "execution_count": 97,
   "id": "b2f09323",
   "metadata": {},
   "outputs": [],
   "source": [
    "data_INEPME = data_INEPME.replace('..',None)\n",
    "data_INEPME = data_INEPME.replace('...',None)"
   ]
  },
  {
   "cell_type": "code",
   "execution_count": 98,
   "id": "bd76e782",
   "metadata": {},
   "outputs": [
    {
     "data": {
      "text/plain": [
       "77980"
      ]
     },
     "execution_count": 98,
     "metadata": {},
     "output_type": "execute_result"
    }
   ],
   "source": [
    "data_INEPME.to_sql('INEPME',conn, if_exists='append', index=False)"
   ]
  },
  {
   "cell_type": "markdown",
   "id": "982ac6bd",
   "metadata": {},
   "source": [
    "# Colunas sem tabelas no schema:"
   ]
  },
  {
   "cell_type": "code",
   "execution_count": 101,
   "id": "392cbafd",
   "metadata": {},
   "outputs": [
    {
     "name": "stdout",
     "output_type": "stream",
     "text": [
      "cod-mun  pop  dens  ifdm _a  ifdmedu   ifdms   ifdmer   idbeaf  idbeem  dist_isef  txps  txmedab  trans  ppopcadu  ppoppexpcadu  pfrarcadu  pfbf  p.s  gsau  gpercagr  cme  cmas  cmsa  fnde  vaagrfam  pnae  alt  bioma  relevo  solo  coleta_rs  agua  coleta_s  esgoto  esgoto_t  unnamed: 82  imp  exp  cambio  selic  ipca  cred_r  seg_r  proagro  arc  qntp  vp  rmp  sem_mud  vend_est  pop0a4anos  pop5a9anos  pop10a14anos  pop15a19anos  pop20a29anos  pop30a39anos  pop40a49anos  pop50a59anos  pop60a69anos  pop70a79anos  pop80+  itgm  "
     ]
    }
   ],
   "source": [
    "# Cria lista com todas as colunas de todas as tabelas e verifica faltantes\n",
    "columns_schema = pd.unique([*columns_lower, *columns_rais_lower, *columns_inepme_lower, *columns_cnes_lower, *columns_onu_lower, *columns_siconfi_lower])\n",
    "faltantes = ['id_ibge']\n",
    "for c in excel_lower:\n",
    "    if c not in columns_schema:\n",
    "        faltantes.append(c)\n",
    "        print(c, end='  ')"
   ]
  },
  {
   "cell_type": "markdown",
   "id": "de2847ce",
   "metadata": {},
   "source": [
    "# Criação do dump da base de dados em formato sql"
   ]
  },
  {
   "cell_type": "code",
   "execution_count": null,
   "id": "3429de6e",
   "metadata": {},
   "outputs": [],
   "source": [
    "with open('ibge_dump.sql', 'w') as f:\n",
    "    for line in conn.iterdump():\n",
    "        f.write(f'{line}\\n')\n",
    "        \n",
    "cursor.close()\n",
    "conn.close()"
   ]
  }
 ],
 "metadata": {
  "kernelspec": {
   "display_name": "Python 3 (ipykernel)",
   "language": "python",
   "name": "python3"
  },
  "language_info": {
   "codemirror_mode": {
    "name": "ipython",
    "version": 3
   },
   "file_extension": ".py",
   "mimetype": "text/x-python",
   "name": "python",
   "nbconvert_exporter": "python",
   "pygments_lexer": "ipython3",
   "version": "3.10.8"
  }
 },
 "nbformat": 4,
 "nbformat_minor": 5
}
